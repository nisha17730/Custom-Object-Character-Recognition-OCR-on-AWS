{
 "cells": [
  {
   "cell_type": "markdown",
   "id": "373a740d-3080-41c9-8132-9851b00a828e",
   "metadata": {},
   "source": [
    "Custom OCR Project - Image Preprocessing\n",
    "------------------------------------------\n",
    "This script preprocesses images by converting them to grayscale, applying Gaussian blur, \n",
    "and performing thresholding to enhance text clarity for OCR processing."
   ]
  },
  {
   "cell_type": "code",
   "execution_count": 2,
   "id": "c94f37cd-f631-4361-b4af-4ba3613701c7",
   "metadata": {},
   "outputs": [],
   "source": [
    "# Import necessary libraries\n",
    "import cv2  # OpenCV for image processing\n",
    "import os  # OS module for file handling\n",
    "import numpy as np  # NumPy for numerical operations\n",
    "import matplotlib.pyplot as plt  # Matplotlib for image visualization"
   ]
  },
  {
   "cell_type": "markdown",
   "id": "19b36d74-1ef1-4eaf-9eb9-2d042ed45625",
   "metadata": {},
   "source": [
    "# Step 1: Define Paths"
   ]
  },
  {
   "cell_type": "code",
   "execution_count": 4,
   "id": "71837ec4-a752-475f-8284-8688006b4247",
   "metadata": {},
   "outputs": [],
   "source": [
    "# Path to the folder containing raw images\n",
    "IMAGE_FOLDER = r\"C:\\Users\\hp\\project 10\\raw_images\"\n",
    "# Path to the folder where preprocessed images will be saved\n",
    "PREPROCESSED_FOLDER = r\"C:\\Users\\hp\\project 10\\preprocessed_images\"\n",
    "\n",
    "# Ensure the preprocessed images folder exists\n",
    "if not os.path.exists(PREPROCESSED_FOLDER):\n",
    "    os.makedirs(PREPROCESSED_FOLDER)"
   ]
  },
  {
   "cell_type": "markdown",
   "id": "9891677b-051a-4fc6-9248-178fd8b4a145",
   "metadata": {},
   "source": [
    "# Step 2: Function to Preprocess an Image"
   ]
  },
  {
   "cell_type": "code",
   "execution_count": 6,
   "id": "794c983d-b715-4cac-a467-b2198756547e",
   "metadata": {},
   "outputs": [],
   "source": [
    "def preprocess_image(image_path, save_path):\n",
    "    '''\n",
    "    This function loads an image, converts it to grayscale, applies Gaussian blur,\n",
    "    and performs thresholding to enhance text clarity. The processed image is then saved.\n",
    "    '''\n",
    "    image = cv2.imread(image_path)  # Load image\n",
    "    gray = cv2.cvtColor(image, cv2.COLOR_BGR2GRAY)  # Convert to grayscale\n",
    "    blurred = cv2.GaussianBlur(gray, (5, 5), 0)  # Apply Gaussian blur\n",
    "    _, thresh = cv2.threshold(blurred, 0, 255, cv2.THRESH_BINARY + cv2.THRESH_OTSU)  # Apply Otsu's thresholding\n",
    "    \n",
    "    # Save the processed image\n",
    "    processed_image_path = os.path.join(save_path, os.path.basename(image_path))\n",
    "    cv2.imwrite(processed_image_path, thresh)\n",
    "    \n",
    "    return thresh"
   ]
  },
  {
   "cell_type": "markdown",
   "id": "b8cdb3ff-73d6-48b8-a17b-f4e5b9bf2c04",
   "metadata": {},
   "source": [
    "# Step 3: Process All Images in the Folder"
   ]
  },
  {
   "cell_type": "code",
   "execution_count": 8,
   "id": "6f2491ac-2a93-4607-9874-df2bb27273a8",
   "metadata": {},
   "outputs": [
    {
     "name": "stdout",
     "output_type": "stream",
     "text": [
      "Data preprocessing complete. Preprocessed images saved.\n"
     ]
    }
   ],
   "source": [
    "# Get list of all image files in the raw images folder\n",
    "image_files = os.listdir(IMAGE_FOLDER)\n",
    "for img_file in image_files:\n",
    "    img_path = os.path.join(IMAGE_FOLDER, img_file)\n",
    "    preprocess_image(img_path, PREPROCESSED_FOLDER)\n",
    "\n",
    "print(\"Data preprocessing complete. Preprocessed images saved.\")"
   ]
  },
  {
   "cell_type": "code",
   "execution_count": null,
   "id": "d0a033c2-e407-45df-ac0e-f9301c79b59c",
   "metadata": {},
   "outputs": [],
   "source": []
  },
  {
   "cell_type": "code",
   "execution_count": null,
   "id": "148c5be2-e2f0-479d-bc6d-33eeee1f4f2d",
   "metadata": {},
   "outputs": [],
   "source": []
  },
  {
   "cell_type": "code",
   "execution_count": null,
   "id": "78f338ad-a85a-4226-a156-bf1d008d17e0",
   "metadata": {},
   "outputs": [],
   "source": []
  },
  {
   "cell_type": "code",
   "execution_count": null,
   "id": "712334ff-ec86-4ef5-8cfe-1ee42845e2ab",
   "metadata": {},
   "outputs": [],
   "source": []
  },
  {
   "cell_type": "code",
   "execution_count": null,
   "id": "a0357392-0f0f-47f9-88c2-9cf6e61bd4bd",
   "metadata": {},
   "outputs": [],
   "source": []
  },
  {
   "cell_type": "code",
   "execution_count": null,
   "id": "edeb7a33-0fde-49a5-8fca-9e44b284ec1a",
   "metadata": {},
   "outputs": [],
   "source": []
  },
  {
   "cell_type": "code",
   "execution_count": null,
   "id": "1ccc79a0-020c-4c22-a45a-be9bac523a3c",
   "metadata": {},
   "outputs": [],
   "source": []
  }
 ],
 "metadata": {
  "kernelspec": {
   "display_name": "Python [conda env:base] *",
   "language": "python",
   "name": "conda-base-py"
  },
  "language_info": {
   "codemirror_mode": {
    "name": "ipython",
    "version": 3
   },
   "file_extension": ".py",
   "mimetype": "text/x-python",
   "name": "python",
   "nbconvert_exporter": "python",
   "pygments_lexer": "ipython3",
   "version": "3.12.7"
  }
 },
 "nbformat": 4,
 "nbformat_minor": 5
}
